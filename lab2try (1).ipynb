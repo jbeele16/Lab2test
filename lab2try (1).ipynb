{
  "nbformat": 4,
  "nbformat_minor": 0,
  "metadata": {
    "colab": {
      "provenance": []
    },
    "kernelspec": {
      "name": "python3",
      "display_name": "Python 3"
    },
    "language_info": {
      "name": "python"
    }
  },
  "cells": [
    {
      "cell_type": "markdown",
      "source": [
        "[![image](https://colab.research.google.com/assets/colab-badge.svg)](https://githubtocolab.com/jbeele16/Lab2test\n",
        ")\n",
        "\n"
      ],
      "metadata": {
        "id": "7r03kQ0xGGdk"
      }
    },
    {
      "cell_type": "code",
      "source": [
        "# !pip install leafmap"
      ],
      "metadata": {
        "id": "hR9ETfsvGzVo"
      },
      "execution_count": null,
      "outputs": []
    },
    {
      "cell_type": "code",
      "source": [
        "import leafmap"
      ],
      "metadata": {
        "id": "ilHr5fXcHANW"
      },
      "execution_count": null,
      "outputs": []
    },
    {
      "cell_type": "code",
      "execution_count": null,
      "metadata": {
        "id": "faMT1o-vGiIX"
      },
      "outputs": [],
      "source": [
        "m = leafmap.Map()\n",
        "m"
      ]
    }
  ]
}