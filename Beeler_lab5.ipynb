{
 "cells": [
  {
   "cell_type": "markdown",
   "id": "4e70be69",
   "metadata": {},
   "source": [
    "# Lab 5\n",
    "\n",
    "[![image](https://colab.research.google.com/assets/colab-badge.svg)](https://colab.research.google.com/github/giswqs/geosdemo/blob/master/docs/labs/lab5.ipynb)\n",
    "\n",
    "## Submission instructions\n",
    "\n",
    "1. Download the notebook from https://geosdemo.gishub.org/labs/lab5\n",
    "2. Complete the lab questions\n",
    "3. Restart Kernel and Run All Cells\n",
    "4. Upload the notebook to your GitHub repository\n",
    "5. Make sure the notebook has an `Open In Colab` badge. Click on the badge to make sure your notebook can be opened in Colab.\n",
    "6. Submit the link to the notebook on your GitHub repository to Canvas"
   ]
  },
  {
   "cell_type": "code",
   "execution_count": 153,
   "id": "8de60915",
   "metadata": {},
   "outputs": [
    {
     "name": "stdout",
     "output_type": "stream",
     "text": [
      "Submitted time: 2023-03-22 17:58:43.016433\n"
     ]
    }
   ],
   "source": [
    "from datetime import datetime\n",
    "\n",
    "now = datetime.now()\n",
    "print(f\"Submitted time: {now}\")"
   ]
  },
  {
   "cell_type": "markdown",
   "id": "a526d1ff",
   "metadata": {},
   "source": [
    "## Question 1\n",
    "\n",
    "**Person:** Use a dictionary to store information about a person you know. Store their first name, last name, age, and the city in which they live. You should have keys such as first_name, last_name, age, and city. Print each piece of information stored in your dictionary."
   ]
  },
  {
   "cell_type": "code",
   "execution_count": 154,
   "id": "060bd962",
   "metadata": {},
   "outputs": [
    {
     "name": "stdout",
     "output_type": "stream",
     "text": [
      "Diva\n",
      "Janeway\n",
      "23\n",
      "Knoxville\n"
     ]
    }
   ],
   "source": [
    "Girlfriend = {'First': 'Diva', 'Last': 'Janeway','Age':'23', 'City':'Knoxville'}\n",
    "print(Girlfriend['First'])\n",
    "print(Girlfriend['Last'])\n",
    "print(Girlfriend['Age'])\n",
    "print(Girlfriend['City']) \n"
   ]
  },
  {
   "cell_type": "markdown",
   "id": "32bb120e",
   "metadata": {},
   "source": [
    "## Question 2\n",
    "\n",
    "**Favorite Numbers:** Use a dictionary to store people’s favorite numbers. Think of five names, and use them as keys in your dictionary. Think of a favorite number for each person, and store each as a value in your dictionary. Print each person’s name and their favorite number. For even more fun, poll a few friends and get some actual data for your program."
   ]
  },
  {
   "cell_type": "code",
   "execution_count": 155,
   "id": "37115a33",
   "metadata": {},
   "outputs": [
    {
     "name": "stdout",
     "output_type": "stream",
     "text": [
      "Diva's favorite number is 4.\n",
      "Jareth's favorite number is 42.\n",
      "Alex's favorite number is 27.\n",
      "Marian's favorite number is 100.\n",
      "Gabriela's favorite number is 8.\n"
     ]
    }
   ],
   "source": [
    "favorite_numbers = {\n",
    "    'Diva' : 4,\n",
    "    'Jareth': 42,\n",
    "    'Alex': 27,\n",
    "    'Marian': 100,\n",
    "    'Gabriela': 8,}\n",
    "print(f\"Diva's favorite number is {favorite_numbers['Diva']}.\")\n",
    "print(f\"Jareth's favorite number is {favorite_numbers['Jareth']}.\")\n",
    "print(f\"Alex's favorite number is {favorite_numbers['Alex']}.\")\n",
    "print(f\"Marian's favorite number is {favorite_numbers['Marian']}.\")\n",
    "print(f\"Gabriela's favorite number is {favorite_numbers['Gabriela']}.\")\n"
   ]
  },
  {
   "cell_type": "markdown",
   "id": "eb31ca53",
   "metadata": {},
   "source": [
    "## Question 3\n",
    "\n",
    "**Glossary:** A Python dictionary can be used to model an actual dictionary. However, to avoid confusion, let’s call it a glossary.\n",
    "\n",
    "- Think of five programming words you’ve learned about in the previous chapters. Use these words as the keys in your glossary, and store their meanings as values.\n",
    "- Print each word and its meaning as neatly formatted output. You might print the word followed by a colon and then its meaning, or print the word on one line and then print its meaning indented on a second line. Use the newline character (\\n) to insert a blank line between each word-meaning pair in your output."
   ]
  },
  {
   "cell_type": "code",
   "execution_count": 156,
   "id": "7bdd7f86",
   "metadata": {},
   "outputs": [
    {
     "name": "stdout",
     "output_type": "stream",
     "text": [
      "Directory: A folder that contains files and other folders\n",
      "\n",
      "Github: A folder that contains files and other folders\n",
      "\n",
      "Code: A folder that contains files and other folders\n",
      "\n",
      "Python: A folder that contains files and other folders\n",
      "\n",
      "Visual Studio Code: A folder that contains files and other folders\n"
     ]
    }
   ],
   "source": [
    "programming_words = {\n",
    "    'directory' : 'A folder that contains files and other folders',\n",
    "    'github': 'A website that allows you to store your code online',\n",
    "    'code': 'A set of instructions that a computer can understand',\n",
    "    'python': 'A programming language',\n",
    "    'Visual Studio Code': 'A code editing software',}\n",
    "words = programming_words['directory']\n",
    "print(f\"Directory: {words}\")\n",
    "print(f\"\\nGithub: {words}\")\n",
    "print(f\"\\nCode: {words}\")\n",
    "print(f\"\\nPython: {words}\")\n",
    "print(f\"\\nVisual Studio Code: {words}\")"
   ]
  },
  {
   "cell_type": "markdown",
   "id": "9bdb2d85",
   "metadata": {},
   "source": [
    "## Question 4\n",
    "\n",
    "**Glossary 2:** Now that you know how to loop through a dictionary, clean up the code from Question 3 by replacing your series of print() calls with a loop that runs through the dictionary’s keys and values. When you’re sure that your loop works, add five more Python terms to your glossary. When you run your program again, these new words and meanings should automatically be included in the output."
   ]
  },
  {
   "cell_type": "code",
   "execution_count": 157,
   "id": "018d37ff",
   "metadata": {},
   "outputs": [
    {
     "name": "stdout",
     "output_type": "stream",
     "text": [
      "\n",
      "directory: A folder that contains files and other folders\n",
      "\n",
      "github: A website that allows you to store your code online\n",
      "\n",
      "code: A set of instructions that a computer can understand\n",
      "\n",
      "python: A programming language\n",
      "\n",
      "Visual Studio Code: A code editing software\n",
      "\n",
      "commit: A save point in your code\n",
      "\n",
      "push: To send your code to github\n",
      "\n",
      "pull: To get your code from github\n",
      "\n",
      "branch: A copy of your code\n",
      "\n",
      "merge: To combine two branches\n"
     ]
    }
   ],
   "source": [
    "programming_words = {\n",
    "    'directory' : 'A folder that contains files and other folders',\n",
    "    'github': 'A website that allows you to store your code online',\n",
    "    'code': 'A set of instructions that a computer can understand',\n",
    "    'python': 'A programming language',\n",
    "    'Visual Studio Code': 'A code editing software',}\n",
    "\n",
    "programming_words['commit'] = 'A save point in your code'\n",
    "programming_words['push'] = 'To send your code to github'\n",
    "programming_words['pull'] = 'To get your code from github'\n",
    "programming_words['branch'] = 'A copy of your code'\n",
    "programming_words['merge'] = 'To combine two branches'\n",
    "\n",
    "for key, value in programming_words.items():\n",
    "    print(f\"\\n{key}: {value}\")\n",
    "\n",
    "\n"
   ]
  },
  {
   "cell_type": "markdown",
   "id": "375356d5",
   "metadata": {},
   "source": [
    "## Question 5\n",
    "\n",
    "**Rivers:** Make a dictionary containing three major rivers and the country each river runs through. One key-value pair might be 'nile': 'egypt'.\n",
    "\n",
    "- Use a loop to print a sentence about each river, such as _The Nile runs through Egypt._\n",
    "- Use a loop to print the name of each river included in the dictionary.\n",
    "- Use a loop to print the name of each country included in the dictionary."
   ]
  },
  {
   "cell_type": "code",
   "execution_count": 158,
   "id": "2fd7b758",
   "metadata": {},
   "outputs": [
    {
     "name": "stdout",
     "output_type": "stream",
     "text": [
      "\n",
      "The Mississippi runs through United States.\n",
      "\n",
      "The Gal Oya runs through Sri Lanka.\n",
      "\n",
      "The Danube runs through Germany.\n"
     ]
    }
   ],
   "source": [
    "rivers = {'Mississippi': 'United States', 'Gal Oya': 'Sri Lanka', 'Danube': 'Germany'}\n",
    "for key, value in rivers.items():\n",
    "    print(f\"\\nThe {key} runs through {value}.\")"
   ]
  },
  {
   "cell_type": "markdown",
   "id": "8b0b500d",
   "metadata": {},
   "source": [
    "## Question 6\n",
    "\n",
    "**Cities:** Make a dictionary called `cities`. Use the names of three cities as keys in your dictionary. Create a dictionary of information about each city and include the country that the city is in, its approximate population, and one fact about that city. The keys for each city’s dictionary should be something like `country`, `population`, and `fact`. Print the name of each city and all of the information you have stored about it."
   ]
  },
  {
   "cell_type": "code",
   "execution_count": 159,
   "id": "28a77010",
   "metadata": {},
   "outputs": [
    {
     "name": "stdout",
     "output_type": "stream",
     "text": [
      "Knoxville:\n",
      "\tCountry: United States\n",
      "\tPopulation: 183,270\n",
      "\tFact: Knoxville is the home of the University of Tennessee.\n",
      "\n",
      "San Juan:\n",
      "\tCountry: Costa Rica\n",
      "\tPopulation: 1,000,000\n",
      "\tFact: San Juan is the capital of Costa Rica.\n",
      "\n",
      "Berlin:\n",
      "\tCountry: Germany\n",
      "\tPopulation: 3,748,148\n",
      "\tFact: Berlin is the capital of Germany.\n",
      "\n"
     ]
    }
   ],
   "source": [
    "cities = {'Knoxville':{'Country' : 'United States','Population': '183,270','Fact': 'Knoxville is the home of the University of Tennessee.'},\n",
    "        'San Juan':{'Country': 'Costa Rica','Population': '1,000,000','Fact': 'San Juan is the capital of Costa Rica.'},\n",
    "        'Berlin':{'Country': 'Germany','Population': '3,748,148','Fact': 'Berlin is the capital of Germany.'}}\n",
    "for city, city_info in cities.items():\n",
    "    country = city_info['Country']\n",
    "    population = city_info['Population']\n",
    "    fact = city_info['Fact']\n",
    "\n",
    "for city, city_info in cities.items():\n",
    "    print(f\"{city}:\")\n",
    "    print(f\"\\tCountry: {city_info['Country']}\")\n",
    "    print(f\"\\tPopulation: {city_info['Population']}\")\n",
    "    print(f\"\\tFact: {city_info['Fact']}\\n\")\n",
    "    \n",
    "    \n",
    "\n"
   ]
  },
  {
   "cell_type": "markdown",
   "id": "874541d3",
   "metadata": {},
   "source": [
    "## Question 7\n",
    "\n",
    "**Rental Car:** Write a program that asks the user what kind of rental car they would like. Print a message about that car, such as “Let me see if I can find you a Subaru.”"
   ]
  },
  {
   "cell_type": "code",
   "execution_count": 160,
   "id": "5283628b",
   "metadata": {},
   "outputs": [
    {
     "name": "stdout",
     "output_type": "stream",
     "text": [
      "Let me help you find a truck.\n"
     ]
    }
   ],
   "source": [
    "message = input(\"What kind of car would you like to buy?\")\n",
    "print(f\"Let me help you find a {message}.\")"
   ]
  },
  {
   "cell_type": "markdown",
   "id": "e03a200a",
   "metadata": {},
   "source": [
    "## Question 8\n",
    "\n",
    "**Restaurant Seating:** Write a program that asks the user how many people are in their dinner group. If the answer is more than eight, print a message saying they’ll have to wait for a table. Otherwise, report that their table is ready."
   ]
  },
  {
   "cell_type": "code",
   "execution_count": 161,
   "id": "96167a0f",
   "metadata": {},
   "outputs": [
    {
     "name": "stdout",
     "output_type": "stream",
     "text": [
      "Your table is ready.\n"
     ]
    }
   ],
   "source": [
    "message = input(\"How many people are in your dinner group?\")\n",
    "message = int(message)\n",
    "\n",
    "if message > 8:\n",
    "    print(\"You'll have to wait for a table.\")\n",
    "\n",
    "else:\n",
    "    print(\"Your table is ready.\")"
   ]
  },
  {
   "cell_type": "markdown",
   "id": "a523d8a7",
   "metadata": {},
   "source": [
    "## Question 9\n",
    "\n",
    "**Multiples of Ten:** Ask the user for a number, and then report whether the number is a multiple of 10 or not."
   ]
  },
  {
   "cell_type": "code",
   "execution_count": 162,
   "id": "77c9702e",
   "metadata": {},
   "outputs": [
    {
     "name": "stdout",
     "output_type": "stream",
     "text": [
      "200 is a multiple of 10.\n"
     ]
    }
   ],
   "source": [
    "number = input(\"What is your number?\")\n",
    "number = int(number)\n",
    "\n",
    "if number % 10 == 0:\n",
    "    print(f\"{number} is a multiple of 10.\")\n",
    "\n",
    "else:\n",
    "    print(f\"{number} is not a multiple of 10.\")"
   ]
  },
  {
   "cell_type": "markdown",
   "id": "de550983",
   "metadata": {},
   "source": [
    "## Question 10\n",
    "\n",
    "**Pizza Toppings:** Write a loop that prompts the user to enter a series of pizza toppings until they enter a 'quit' value. As they enter each topping, print a message saying you’ll add that topping to their pizza."
   ]
  },
  {
   "cell_type": "code",
   "execution_count": 163,
   "id": "11f4d8e4",
   "metadata": {},
   "outputs": [
    {
     "name": "stdout",
     "output_type": "stream",
     "text": [
      "Adding pepperoni to your pizza.\n",
      "Adding olives to your pizza.\n",
      "Adding peppers to your pizza.\n"
     ]
    }
   ],
   "source": [
    "prompt = \"\\nWhat toppings would you like on your pizza?\"\n",
    "prompt += \"\\nEnter 'quit' when you are finished. \"\n",
    "\n",
    "message = \"\"\n",
    "while message != 'quit':\n",
    "    message = input(prompt)\n",
    "\n",
    "    if message != 'quit':\n",
    "        print(f\"Adding {message} to your pizza.\")"
   ]
  },
  {
   "cell_type": "markdown",
   "id": "ccfe4831",
   "metadata": {},
   "source": [
    "## Question 11\n",
    "\n",
    "**Message:** Write a function called `display_message()` that prints one sentence telling everyone what you are learning about in this chapter. Call the function, and make sure the message displays correctly."
   ]
  },
  {
   "cell_type": "code",
   "execution_count": 164,
   "id": "7080b52a",
   "metadata": {},
   "outputs": [
    {
     "name": "stdout",
     "output_type": "stream",
     "text": [
      "I am learning about functions in this chapter.\n"
     ]
    }
   ],
   "source": [
    "def display_message():\n",
    "    \"\"\"Display what I am learning.\"\"\"\n",
    "    print(\"I am learning about functions in this chapter.\")\n",
    "\n",
    "display_message()"
   ]
  },
  {
   "cell_type": "markdown",
   "id": "2b5e23db",
   "metadata": {},
   "source": [
    "## Question 12\n",
    "\n",
    "**Favorite Book:** Write a function called `favorite_book()` that accepts one parameter, title. The function should print a message, such as `One of my favorite books is Alice in Wonderland`. Call the function, making sure to include a book title as an argument in the function call."
   ]
  },
  {
   "cell_type": "code",
   "execution_count": 165,
   "id": "b33bd108",
   "metadata": {},
   "outputs": [
    {
     "name": "stdout",
     "output_type": "stream",
     "text": [
      "One of my favorite books is The Fellowship of the Ring.\n"
     ]
    }
   ],
   "source": [
    "def favorite_book(title):\n",
    "    \"\"\"Display my favorite book.\"\"\"\n",
    "    print(f\"One of my favorite books is {title}.\")\n",
    "\n",
    "favorite_book(\"The Fellowship of the Ring\")\n"
   ]
  },
  {
   "cell_type": "markdown",
   "id": "4904419f",
   "metadata": {},
   "source": [
    "## Question 13\n",
    "\n",
    "**T-Shirt:** Write a function called `make_shirt()` that accepts a size and the text of a message that should be printed on the shirt. The function should print a sentence summarizing the size of the shirt and the message printed on it.\n",
    "\n",
    "Call the function once using positional arguments to make a shirt. Call the function a second time using keyword arguments."
   ]
  },
  {
   "cell_type": "code",
   "execution_count": 166,
   "id": "53d690ca",
   "metadata": {},
   "outputs": [
    {
     "name": "stdout",
     "output_type": "stream",
     "text": [
      "The shirt will be a size xl\n",
      "The shirt will say Coding is hard.\n",
      "\n",
      "The shirt will be a size xl\n",
      "The shirt will say Coding is hard.\n",
      "\n"
     ]
    }
   ],
   "source": [
    "def make_shirt(size, message):\n",
    "    \"\"\"Display the size and text of a shirt.\"\"\"\n",
    "    print(f\"The shirt will be a size {size}\")\n",
    "    print(f\"The shirt will say {message}\\n\")\n",
    "\n",
    "make_shirt('xl','Coding is hard.')\n",
    "\n",
    "make_shirt(message='Coding is hard.', size='xl')\n",
    "    "
   ]
  },
  {
   "cell_type": "markdown",
   "id": "c6a6dc4b",
   "metadata": {},
   "source": [
    "## Question 14\n",
    "\n",
    "**Large Shirts:** Modify the `make_shirt()` function so that shirts are large by default with a message that reads _I love Python_. Make a large shirt and a medium shirt with the default message, and a shirt of any size with a different message."
   ]
  },
  {
   "cell_type": "code",
   "execution_count": 167,
   "id": "658f7e3f",
   "metadata": {},
   "outputs": [
    {
     "name": "stdout",
     "output_type": "stream",
     "text": [
      "The shirt will be a size large\n",
      "The shirt will say I love Python.\n",
      "\n",
      "The shirt will be a size medium\n",
      "The shirt will say I love Python.\n",
      "\n",
      "The shirt will be a size small\n",
      "The shirt will say Coding is hard.\n",
      "\n"
     ]
    }
   ],
   "source": [
    "def make_shirt(size = 'large', message = 'I love Python.'):\n",
    "    \"\"\"Display the size and text of a shirt.\"\"\"\n",
    "    print(f\"The shirt will be a size {size}\")\n",
    "    print(f\"The shirt will say {message}\\n\")\n",
    "\n",
    "make_shirt()\n",
    "make_shirt(size='medium')\n",
    "make_shirt('small', 'Coding is hard.')\n",
    "               \n",
    "               "
   ]
  },
  {
   "cell_type": "markdown",
   "id": "64fd6e85",
   "metadata": {},
   "source": [
    "## Question 15\n",
    "\n",
    "**Cities:** Write a function called `describe_city()` that accepts the name of a city and its country. The function should print a simple sentence, such as `Reykjavik is in Iceland`. Give the parameter for the country a default value. Call your function for three different cities, at least one of which is not in the default country."
   ]
  },
  {
   "cell_type": "code",
   "execution_count": 168,
   "id": "bc493373",
   "metadata": {},
   "outputs": [
    {
     "name": "stdout",
     "output_type": "stream",
     "text": [
      "Knoxville is in The United States\n",
      "\n",
      "New York is in The United States\n",
      "\n",
      "San Juan is in Costa Rica\n",
      "\n"
     ]
    }
   ],
   "source": [
    "def describe_city(city, country='the united states'):\n",
    "    \"\"\"Display a city and country.\"\"\"\n",
    "    print(f\"{city.title()} is in {country.title()}\\n\")\n",
    "\n",
    "describe_city('knoxville')\n",
    "describe_city('new york')\n",
    "describe_city('san juan', country = 'costa rica')"
   ]
  },
  {
   "cell_type": "markdown",
   "id": "259cdcdc",
   "metadata": {},
   "source": [
    "## Question 16\n",
    "\n",
    "**City Names:** Write a function called `city_country()` that takes in the name of a city and its country. The function should return a string formatted like this:\n",
    "\n",
    "```text\n",
    "Santiago, Chile\n",
    "```\n",
    "\n",
    "Call your function with at least three city-country pairs, and print the values that are returned."
   ]
  },
  {
   "cell_type": "code",
   "execution_count": 169,
   "id": "f1b5b16e",
   "metadata": {},
   "outputs": [
    {
     "name": "stdout",
     "output_type": "stream",
     "text": [
      "Knoxville, United States\n",
      "\n",
      "San Juan, Costa Rica\n",
      "\n",
      "Berlin, Germany\n",
      "\n"
     ]
    }
   ],
   "source": [
    "def city_country (city, country): \n",
    "    print(f\"{city.title()}, {country.title()}\\n\")\n",
    "    \"\"\"Display a city and country\"\"\"\n",
    "city_country('knoxville', 'united states')\n",
    "city_country('san juan', 'costa rica')\n",
    "city_country('berlin', 'germany')\n"
   ]
  },
  {
   "cell_type": "markdown",
   "id": "491f64a4",
   "metadata": {},
   "source": [
    "## Question 17\n",
    "\n",
    "**Album:** Write a function called `make_album()` that builds a dictionary describing a music album. The function should take in an artist name and an album title, and it should return a dictionary containing these two pieces of information. Use the function to make three dictionaries representing different albums. Print each return value to show that the dictionaries are storing the album information correctly.\n",
    "\n",
    "Use None to add an optional parameter to make_album() that allows you to store the number of songs on an album. If the calling line includes a value for the number of songs, add that value to the album’s dictionary. Make at least one new function call that includes the number of songs on an album."
   ]
  },
  {
   "cell_type": "code",
   "execution_count": 170,
   "id": "550b2be6",
   "metadata": {},
   "outputs": [
    {
     "name": "stdout",
     "output_type": "stream",
     "text": [
      "The Beatles, Abbey Road\n",
      "\n",
      "Frank Ocean, Blonde\n",
      "\n",
      "Troye Sivan, Blue Neighbourhood\n",
      "\n",
      "Beyonce, Renaissance, 14\n",
      "\n"
     ]
    }
   ],
   "source": [
    "def make_album(artist_name, album_title, track_number = None):\n",
    "    \"\"\"Display an artist and album.\"\"\"\n",
    "    if track_number:\n",
    "        album = (f\"{artist_name}, {album_title}, {track_number}\")\n",
    "    else:\n",
    "        album = (f\"{artist_name}, {album_title}\")\n",
    "    return (f\"{album.title()}\\n\")\n",
    "\n",
    "album = make_album('the beatles', 'abbey road')\n",
    "print(album)\n",
    "album = make_album('frank ocean', 'blonde')\n",
    "print(album)\n",
    "album = make_album('troye sivan', 'blue neighbourhood')\n",
    "print(album)\n",
    "album = make_album('beyonce', 'renaissance', 14)\n",
    "print(album)\n",
    "\n",
    "\n"
   ]
  },
  {
   "cell_type": "markdown",
   "id": "42f6a72f",
   "metadata": {},
   "source": [
    "## Question 18\n",
    "\n",
    "**User Albums:** Start with your program from Question 17. Write a `while` loop that allows users to enter an album’s artist and title. Once you have that information, call `make_album()` with the user’s input and print the dictionary that’s created. Be sure to include a quit value in the `while` loop."
   ]
  },
  {
   "cell_type": "code",
   "execution_count": 171,
   "id": "2ba9b4ba",
   "metadata": {},
   "outputs": [
    {
     "name": "stdout",
     "output_type": "stream",
     "text": [
      "Please enter Album information\n",
      "Enter 'quit' at any time to stop.\n",
      "Frank Ocean, Channel Orange, 17\n",
      "\n"
     ]
    }
   ],
   "source": [
    "def make_album(artist_name, album_title, track_number = None):\n",
    "    \"\"\"Display an artist and album.\"\"\"\n",
    "    if track_number:\n",
    "        album = (f\"{artist_name}, {album_title}, {track_number}\")\n",
    "    else:\n",
    "        album = (f\"{artist_name}, {album_title}\")\n",
    "    return (f\"{album.title()}\\n\")\n",
    "\n",
    "print(\"Please enter Album information\")\n",
    "print(\"Enter 'quit' at any time to stop.\")\n",
    "\n",
    "while True: \n",
    "\n",
    "    artist_name = input(\"What is the artist's name? \")\n",
    "    if artist_name == 'quit':\n",
    "        break\n",
    "    \n",
    "    album_title = input(\"What is the album title? \")\n",
    "    if album_title == 'quit':\n",
    "        break\n",
    "\n",
    "    track_number = input(\"What is the track number? \")\n",
    "    if track_number == 'quit':\n",
    "        break\n",
    "    \n",
    "    album = make_album(artist_name, album_title, track_number)\n",
    "    print(album)\n",
    "\n",
    "\n",
    "\n",
    "\n"
   ]
  },
  {
   "cell_type": "markdown",
   "id": "97bab8c2",
   "metadata": {},
   "source": [
    "## Question 19\n",
    "\n",
    "**Messages:** Make a list containing a series of short text messages. Pass the list to a function called `show_messages()`, which prints each text message."
   ]
  },
  {
   "cell_type": "code",
   "execution_count": 172,
   "id": "f8f3ee4e",
   "metadata": {},
   "outputs": [
    {
     "name": "stdout",
     "output_type": "stream",
     "text": [
      "bye Felicia\n",
      "get out of my swamp\n",
      "I'll be seeing you\n"
     ]
    }
   ],
   "source": [
    "def show_messages(messages):\n",
    "    \"\"\"Display short text messages.\"\"\"\n",
    "    for message in messages:\n",
    "        msg = f\"{message}\"\n",
    "        print(message)\n",
    "\n",
    "text_messages = ['bye Felicia', 'get out of my swamp', \"I'll be seeing you\"]\n",
    "show_messages(text_messages)\n"
   ]
  },
  {
   "cell_type": "markdown",
   "id": "a8bcea3c",
   "metadata": {},
   "source": [
    "## Question 20\n",
    "\n",
    "**Sending Messages:** Start with a copy of your program from Question 19. Write a function called `send_messages()` that prints each text message and moves each message to a new list called `sent_messages` as it’s printed. After calling the function, print both of your lists to make sure the messages were moved correctly."
   ]
  },
  {
   "cell_type": "code",
   "execution_count": 173,
   "id": "c5340719",
   "metadata": {},
   "outputs": [
    {
     "name": "stdout",
     "output_type": "stream",
     "text": [
      "Sending messages: \n",
      "\n",
      "I'll be seeing you\n",
      "get out of my swamp\n",
      "bye Felicia\n",
      "\n",
      "Sent messages: \n",
      "\n",
      "I'll be seeing you\n",
      "get out of my swamp\n",
      "bye Felicia\n"
     ]
    }
   ],
   "source": [
    "def text_messages(send_messages, sent_messages):\n",
    "    \"\"\"Display short text messages unsent.\"\"\"\n",
    "    print(\"Sending messages: \\n\")\n",
    "    while send_messages:\n",
    "        current_message = send_messages.pop()\n",
    "        print(f\"{current_message}\")\n",
    "        sent_messages.append(current_message)\n",
    "def outbox_sent(sent_messages):\n",
    "    \"\"\"Display short text messages sent\"\"\"\n",
    "    print(f\"\\nSent messages: \\n\")\n",
    "    for sent_message in sent_messages:\n",
    "        print(f\"{sent_message}\")\n",
    "\n",
    "  \n",
    "send_messages = ['bye Felicia', 'get out of my swamp', \"I'll be seeing you\"]\n",
    "sent_messages = []\n",
    "\n",
    "text_messages(send_messages, sent_messages)\n",
    "outbox_sent(sent_messages)\n",
    "\n",
    "\n"
   ]
  },
  {
   "cell_type": "markdown",
   "id": "c98f1dd0",
   "metadata": {},
   "source": [
    "## Question 21\n",
    "\n",
    "**Learning Python:** Open a blank file in your text editor and write a few lines summarizing what you’ve learned about Python so far. Start each line with the phrase _In Python you can. . .._ Save the file as _learning_python.txt_ in the same directory as your exercises from this chapter. Write a program that reads the file and prints what you wrote three times. Print the contents once by reading in the entire file, once by looping over the file object, and once by storing the lines in a list and then working with them outside the _with_ block."
   ]
  },
  {
   "cell_type": "code",
   "execution_count": 174,
   "id": "cb5da040",
   "metadata": {},
   "outputs": [
    {
     "name": "stdout",
     "output_type": "stream",
     "text": [
      "'Python can make you angry.'\n",
      "'Python can make ranges of numbers for you.'\n",
      "'Python can make a list of numbers for you.'\n",
      "'Python can do functions for you.'\n",
      "'Python can make cool packages for you.'\n",
      "\n",
      "\n",
      "'Python can make you angry.'\n",
      "'Python can make ranges of numbers for you.'\n",
      "'Python can make a list of numbers for you.'\n",
      "'Python can do functions for you.'\n",
      "'Python can make cool packages for you.'\n",
      "\n",
      "'Python can make you angry.'\n",
      "'Python can make ranges of numbers for you.'\n",
      "'Python can make a list of numbers for you.'\n",
      "'Python can do functions for you.'\n",
      "'Python can make cool packages for you.'\n",
      "\n"
     ]
    }
   ],
   "source": [
    "file_name = 'learning_python.txt'\n",
    "with open(file_name) as file_object:\n",
    "    contents = file_object.read()\n",
    "print(contents)\n",
    "\n",
    "with open(file_name) as file_object:\n",
    "    for line in file_object: \n",
    "        print(line.rstrip())\n",
    "\n",
    "with open(file_name) as file_object:\n",
    "    lines = file_object.readlines()\n",
    "for lines in lines:\n",
    "    print(lines.rstrip())"
   ]
  },
  {
   "cell_type": "markdown",
   "id": "4a1a04ad",
   "metadata": {},
   "source": [
    "## Question 22\n",
    "\n",
    "**Learning C:** You can use the replace() method to replace any word in a string with a different word. Here’s a quick example showing how to replace 'dog' with 'cat' in a sentence:\n",
    "\n",
    "```text\n",
    "message = \"I really like dogs.\"\n",
    "message.replace('dog', 'cat')\n",
    "'I really like cats.'\n",
    "```\n",
    "\n",
    "Read in each line from the file you just created, _learning_python.txt_, and replace the word _Python_ with the name of another language, such as _C_. Print each modified line to the screen."
   ]
  },
  {
   "cell_type": "code",
   "execution_count": 175,
   "id": "b11b8018",
   "metadata": {},
   "outputs": [
    {
     "name": "stdout",
     "output_type": "stream",
     "text": [
      "'C can make you angry.'\n",
      "'C can make ranges of numbers for you.'\n",
      "'C can make a list of numbers for you.'\n",
      "'C can do functions for you.'\n",
      "'C can make cool packages for you.'\n",
      "\n"
     ]
    }
   ],
   "source": [
    "file_name = 'learning_python.txt'\n",
    "with open(file_name) as file_object:\n",
    "    for line in file_object:\n",
    "        modified_line = line.replace('Python', 'C')\n",
    "        print(modified_line.rstrip())\n",
    "\n",
    "\n",
    "       \n",
    "\n"
   ]
  },
  {
   "cell_type": "markdown",
   "id": "0921244a",
   "metadata": {},
   "source": [
    "## Question 23\n",
    "\n",
    "**Guest:** Write a program that prompts the user for their name. When they respond, write their name to a file called guest.txt."
   ]
  },
  {
   "cell_type": "code",
   "execution_count": 176,
   "id": "340d8f4b",
   "metadata": {},
   "outputs": [],
   "source": [
    "name = (input('Please enter your name:' ))\n",
    "\n",
    "with open(\"guest.txt\", \"w\") as file:\n",
    "    file.write(name)\n",
    "    \n"
   ]
  },
  {
   "cell_type": "markdown",
   "id": "24b72b21",
   "metadata": {},
   "source": [
    "## Question 24\n",
    "\n",
    "**Guest Book:** Write a while loop that prompts users for their name. When they enter their name, print a greeting to the screen and add a line recording their visit in a file called guest_book.txt. Make sure each entry appears on a new line in the file."
   ]
  },
  {
   "cell_type": "code",
   "execution_count": 177,
   "id": "981abe34",
   "metadata": {},
   "outputs": [
    {
     "name": "stdout",
     "output_type": "stream",
     "text": [
      "Your name has been added to the guest book.\n",
      "Diva Janeway\n",
      "Your name has been added to the guest book.\n",
      "Jareth Beeler\n"
     ]
    }
   ],
   "source": [
    "while True:\n",
    "    name = input(\"Please enter your name(or quit to stop): \")\n",
    "    if name == 'quit':\n",
    "        break\n",
    "    print('Your name has been added to the guest book.')\n",
    "    with open(\"guest_book.txt\", \"a\") as file:\n",
    "        file.write(f\"{name}\\n\")\n",
    "    print(name)\n",
    "\n",
    "\n"
   ]
  },
  {
   "cell_type": "markdown",
   "id": "f3075d32",
   "metadata": {},
   "source": [
    "## Question 25\n",
    "\n",
    "**Programming Poll:** Write a while loop that asks people why they like programming. Each time someone enters a reason, add their reason to a file that stores all the responses."
   ]
  },
  {
   "cell_type": "code",
   "execution_count": 178,
   "id": "042dfb04",
   "metadata": {},
   "outputs": [
    {
     "name": "stdout",
     "output_type": "stream",
     "text": [
      "Your reason has been recorded:\n",
      "it is fun\n"
     ]
    }
   ],
   "source": [
    "while True:\n",
    "    reason = input(\"Please enter a reason you like programming(or quit to stop): \")\n",
    "    if reason == 'quit':\n",
    "        break\n",
    "    print('Your reason has been recorded:')\n",
    "    with open(\"programming_reasons.txt\", \"a\") as file:\n",
    "        file.write(f\"{reason}\\n\")\n",
    "    print(reason)\n"
   ]
  },
  {
   "cell_type": "markdown",
   "id": "ed07a1ca",
   "metadata": {},
   "source": [
    "## Question 26\n",
    "\n",
    "**Addition:** One common problem when prompting for numerical input occurs when people provide text instead of numbers. When you try to convert the input to an int, you’ll get a ValueError. Write a program that prompts for two numbers. Add them together and print the result. Catch the ValueError if either input value is not a number, and print a friendly error message. Test your program by entering two numbers and then by entering some text instead of a number."
   ]
  },
  {
   "cell_type": "code",
   "execution_count": 179,
   "id": "eaf686f8",
   "metadata": {},
   "outputs": [
    {
     "name": "stdout",
     "output_type": "stream",
     "text": [
      "Give me two numbers and I will add them.\n",
      "4\n"
     ]
    }
   ],
   "source": [
    "print('Give me two numbers and I will add them.')\n",
    "\n",
    "first_number = input(\"Enter the first number: \")\n",
    "        \n",
    "second_number = input(\"Enter the second number: \")\n",
    "\n",
    "try:\n",
    "         answer = int(first_number) + int(second_number)\n",
    "except ValueError:\n",
    "        print(\"Both inputs need to be number.\")\n",
    "        \n",
    "else: \n",
    "        print(answer)\n",
    "    \n",
    "\n",
    "\n",
    "\n",
    "\n",
    "    "
   ]
  },
  {
   "cell_type": "markdown",
   "id": "09db5341",
   "metadata": {},
   "source": [
    "## Question 27\n",
    "\n",
    "**Addition Calculator:** Wrap your code from Question 26 in a while loop so the user can continue entering numbers even if they make a mistake and enter text instead of a number."
   ]
  },
  {
   "cell_type": "code",
   "execution_count": 180,
   "id": "916c769d",
   "metadata": {},
   "outputs": [
    {
     "name": "stdout",
     "output_type": "stream",
     "text": [
      "Give me two numbers and I will add them.\n",
      "Type 'quit' to stop. \n"
     ]
    }
   ],
   "source": [
    "print('Give me two numbers and I will add them.')\n",
    "print(\"Type 'quit' to stop. \")\n",
    "while True:\n",
    "        first_number = input(\"Enter the first number: \")\n",
    "        if first_number == 'quit':\n",
    "            break\n",
    "        \n",
    "        second_number = input(\"Enter the second number: \")\n",
    "        if second_number == 'quit':\n",
    "            break\n",
    "\n",
    "        try:\n",
    "                answer = int(first_number) + int(second_number)\n",
    "        except ValueError:\n",
    "                print(\"Both inputs need to be number.\")\n",
    "        \n",
    "        else: \n",
    "                print(answer)\n",
    "    "
   ]
  },
  {
   "cell_type": "markdown",
   "id": "288099a9",
   "metadata": {},
   "source": [
    "## Question 28\n",
    "\n",
    "**Cats and Dogs:** Make two files, _cats.txt_ and _dogs.txt_. Store at least three names of cats in the first file and three names of dogs in the second file. Write a program that tries to read these files and print the contents of the file to the screen. Wrap your code in a `try-except` block to catch the `FileNotFound` error, and print a friendly message if a file is missing. Move one of the files to a different location on your system, and make sure the code in the `except` block executes properly."
   ]
  },
  {
   "cell_type": "code",
   "execution_count": 181,
   "id": "387672f6",
   "metadata": {},
   "outputs": [
    {
     "name": "stdout",
     "output_type": "stream",
     "text": [
      "Oliver\n",
      "Pancake\n",
      "Dude\n",
      "\n",
      "Perry\n",
      "Ivy\n",
      "Merlot\n",
      "\n",
      "One of the files is missing\n"
     ]
    }
   ],
   "source": [
    "\n",
    "try:\n",
    "    with open('cats.txt') as file_object:\n",
    "        contents = file_object.read()\n",
    "        print(f\"{contents}\\n\")\n",
    "    \n",
    "    with open('dogs.txt') as file_object:\n",
    "        contents = file_object.read()\n",
    "        print(f\"{contents}\\n\")\n",
    "\n",
    "    with open('birds.txt') as file_object:\n",
    "        contents = file_object.read()\n",
    "        print(contents)\n",
    "\n",
    "\n",
    "except FileNotFoundError:\n",
    "    print(\"One of the files is missing\")\n",
    "\n",
    "\n"
   ]
  },
  {
   "cell_type": "markdown",
   "id": "e9d28546",
   "metadata": {},
   "source": [
    "## Question 29\n",
    "\n",
    "**Silent Cats and Dogs:** Modify your except block in Question 28 to fail silently if either file is missing."
   ]
  },
  {
   "cell_type": "code",
   "execution_count": 182,
   "id": "2b972722",
   "metadata": {},
   "outputs": [
    {
     "name": "stdout",
     "output_type": "stream",
     "text": [
      "Oliver\n",
      "Pancake\n",
      "Dude\n",
      "\n",
      "Perry\n",
      "Ivy\n",
      "Merlot\n",
      "\n"
     ]
    }
   ],
   "source": [
    "\n",
    "try:\n",
    "    with open('cats.txt') as file_object:\n",
    "        contents = file_object.read()\n",
    "        print(f\"{contents}\\n\")\n",
    "    \n",
    "    with open('dogs.txt') as file_object:\n",
    "        contents = file_object.read()\n",
    "        print(f\"{contents}\\n\")\n",
    "\n",
    "    with open('birds.txt') as file_object:\n",
    "        contents = file_object.read()\n",
    "        print(contents)\n",
    "\n",
    "\n",
    "except FileNotFoundError:\n",
    "    pass\n",
    "\n",
    "\n"
   ]
  },
  {
   "cell_type": "markdown",
   "id": "241ffab1",
   "metadata": {},
   "source": [
    "## Question 30\n",
    "\n",
    "**Common Words:** Visit Project Gutenberg (<https://gutenberg.org/>) and find a few texts you’d like to analyze. Download the text files for these works, or copy the raw text from your browser into a text file on your computer. You can use the `count()` method to find out how many times a word or phrase appears in a string. For example, the following code counts the number of times 'row' appears in a string:"
   ]
  },
  {
   "cell_type": "code",
   "execution_count": 183,
   "id": "2a017ac9",
   "metadata": {},
   "outputs": [
    {
     "data": {
      "text/plain": [
       "2"
      ]
     },
     "execution_count": 183,
     "metadata": {},
     "output_type": "execute_result"
    }
   ],
   "source": [
    "line = \"Row, row, row your boat\"\n",
    "line.count('row')"
   ]
  },
  {
   "cell_type": "code",
   "execution_count": 184,
   "id": "41707165",
   "metadata": {},
   "outputs": [
    {
     "data": {
      "text/plain": [
       "3"
      ]
     },
     "execution_count": 184,
     "metadata": {},
     "output_type": "execute_result"
    }
   ],
   "source": [
    "line.lower().count('row')"
   ]
  },
  {
   "cell_type": "markdown",
   "id": "5652cc4d",
   "metadata": {},
   "source": [
    "Notice that converting the string to lowercase using lower() catches all appearances of the word you’re looking for, regardless of how it’s formatted.\n",
    "\n",
    "Write a program that reads the files you found at Project Gutenberg and determines how many times the word `the` appears in each text. This will be an approximation because it will also count words such as `then` and `there`. Try counting `the`, with a space in the string, and see how much lower your count is."
   ]
  },
  {
   "cell_type": "code",
   "execution_count": 185,
   "id": "55ab2af3",
   "metadata": {},
   "outputs": [
    {
     "name": "stdout",
     "output_type": "stream",
     "text": [
      "388\n",
      "3354\n",
      "587\n"
     ]
    }
   ],
   "source": [
    "def count_the (file_name):\n",
    "    \"\"\"Count the number of times 'the ' appears in multiple texts. \"\"\"\n",
    "    try: \n",
    "        with open(file_name, encoding='utf-8') as f:\n",
    "            contents = f.read()\n",
    "            the = contents.lower().count('the ')\n",
    "        print(the)\n",
    "    except FileNotFoundError:\n",
    "        pass\n",
    "\n",
    "file_names = ['70341-0.txt', '70344-0.txt','70348-0.txt']\n",
    "\n",
    "for file_name in file_names:\n",
    "    count_the(file_name)\n",
    "\n",
    "\n",
    "        \n",
    "    \n",
    "\n"
   ]
  },
  {
   "cell_type": "code",
   "execution_count": null,
   "id": "21fb6cb7",
   "metadata": {},
   "outputs": [],
   "source": []
  }
 ],
 "metadata": {
  "kernelspec": {
   "display_name": "Python 3",
   "language": "python",
   "name": "python3"
  },
  "language_info": {
   "codemirror_mode": {
    "name": "ipython",
    "version": 3
   },
   "file_extension": ".py",
   "mimetype": "text/x-python",
   "name": "python",
   "nbconvert_exporter": "python",
   "pygments_lexer": "ipython3",
   "version": "3.9.16"
  }
 },
 "nbformat": 4,
 "nbformat_minor": 5
}
